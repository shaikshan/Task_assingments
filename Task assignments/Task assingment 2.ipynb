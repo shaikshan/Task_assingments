{
 "cells": [
  {
   "cell_type": "markdown",
   "id": "45155763",
   "metadata": {},
   "source": [
    "## Abstract class\n",
    "1. Python does not supports inbuiltly to have abstract classes but we can create abstract classes by importing a \n",
    "module name as abc.\n",
    "2.we cant create objects of abstract classes\n",
    "3.Example of the abstract class is given below:"
   ]
  },
  {
   "cell_type": "code",
   "execution_count": 1,
   "id": "ec79df64",
   "metadata": {},
   "outputs": [],
   "source": [
    "from abc import ABC,abstractmethod"
   ]
  },
  {
   "cell_type": "code",
   "execution_count": 2,
   "id": "0d09e810",
   "metadata": {},
   "outputs": [],
   "source": [
    "class Car(ABC):                                  ## Creating a abstract class by inheriting the ABC abstract class\n",
    "    @abstractmethod                              ## Creating a abstract method by the use of decorator\n",
    "    def process(self):\n",
    "        print(\"The driver is driving\")\n",
    "        "
   ]
  },
  {
   "cell_type": "code",
   "execution_count": 3,
   "id": "8c7a2772",
   "metadata": {},
   "outputs": [
    {
     "ename": "TypeError",
     "evalue": "Can't instantiate abstract class Car with abstract method process",
     "output_type": "error",
     "traceback": [
      "\u001b[1;31m---------------------------------------------------------------------------\u001b[0m",
      "\u001b[1;31mTypeError\u001b[0m                                 Traceback (most recent call last)",
      "\u001b[1;32m~\\AppData\\Local\\Temp/ipykernel_11712/2620681559.py\u001b[0m in \u001b[0;36m<module>\u001b[1;34m\u001b[0m\n\u001b[1;32m----> 1\u001b[1;33m \u001b[0mdr\u001b[0m \u001b[1;33m=\u001b[0m \u001b[0mCar\u001b[0m\u001b[1;33m(\u001b[0m\u001b[1;33m)\u001b[0m          \u001b[1;31m### You see the error in the console that we cant create a object of abstract class..\u001b[0m\u001b[1;33m\u001b[0m\u001b[1;33m\u001b[0m\u001b[0m\n\u001b[0m",
      "\u001b[1;31mTypeError\u001b[0m: Can't instantiate abstract class Car with abstract method process"
     ]
    }
   ],
   "source": [
    "dr = Car()          ### You see the error in the console that we cant create a object of abstract class.."
   ]
  },
  {
   "cell_type": "markdown",
   "id": "4df8d70b",
   "metadata": {},
   "source": [
    "### But we use the abstract class especially while we using OPS concept\n",
    "1.This is used when we want to inherent some methods of abstract class which are not abstract methods but lie in the same class to some different class \n",
    "1. The below is the example of the use case"
   ]
  },
  {
   "cell_type": "code",
   "execution_count": 4,
   "id": "5711f441",
   "metadata": {},
   "outputs": [],
   "source": [
    "class Computer(ABC):\n",
    "    \n",
    "    @abstractmethod\n",
    "    def process(self):\n",
    "        print(\"This is not running\")\n",
    "\n",
    "class Laptop(Computer):\n",
    "    \n",
    "    def process(self):\n",
    "        print(\"This is running\")\n",
    "        \n",
    "class Machine:\n",
    "    \n",
    "    def perform(self,com):\n",
    "        print(\"This is performing\")\n",
    "        com.process()"
   ]
  },
  {
   "cell_type": "code",
   "execution_count": 5,
   "id": "e784915d",
   "metadata": {},
   "outputs": [],
   "source": [
    "com = Laptop()"
   ]
  },
  {
   "cell_type": "code",
   "execution_count": 6,
   "id": "6fddff18",
   "metadata": {},
   "outputs": [
    {
     "name": "stdout",
     "output_type": "stream",
     "text": [
      "This is running\n"
     ]
    }
   ],
   "source": [
    "com.process()"
   ]
  },
  {
   "cell_type": "code",
   "execution_count": 7,
   "id": "03f303cd",
   "metadata": {},
   "outputs": [],
   "source": [
    "Mac = Machine()"
   ]
  },
  {
   "cell_type": "code",
   "execution_count": 8,
   "id": "03314903",
   "metadata": {},
   "outputs": [
    {
     "name": "stdout",
     "output_type": "stream",
     "text": [
      "This is performing\n",
      "This is running\n"
     ]
    }
   ],
   "source": [
    "Mac.perform(com)"
   ]
  },
  {
   "cell_type": "markdown",
   "id": "aa002f81",
   "metadata": {},
   "source": [
    "## Multiple Inheritance"
   ]
  },
  {
   "cell_type": "code",
   "execution_count": 9,
   "id": "38cbe9cd",
   "metadata": {},
   "outputs": [],
   "source": [
    "class A:\n",
    "    def method1(self):\n",
    "        print(\"A class method is called\")\n",
    "        \n",
    "class B(A):                                                 ## Creating normal inheritence\n",
    "    def method1(self):                                      \n",
    "        print(\"B class method is  called\")\n",
    "        \n",
    "class C(A):                                                ## Creating normal inheritence\n",
    "    def method1(self):\n",
    "        print(\"C class method is called\")\n",
    "        \n",
    "class D(B,C):                                            ## Creating multiple inheritence\n",
    "    def method1(self):\n",
    "        print(\"D class method is called\")\n",
    "        C.method1(self)\n",
    "        B.method1(self)"
   ]
  },
  {
   "cell_type": "code",
   "execution_count": 10,
   "id": "79845b69",
   "metadata": {},
   "outputs": [],
   "source": [
    "A = A()"
   ]
  },
  {
   "cell_type": "code",
   "execution_count": 11,
   "id": "a6d354a7",
   "metadata": {},
   "outputs": [
    {
     "name": "stdout",
     "output_type": "stream",
     "text": [
      "A class method is called\n"
     ]
    }
   ],
   "source": [
    "A.method1()"
   ]
  },
  {
   "cell_type": "code",
   "execution_count": 12,
   "id": "ca2d7295",
   "metadata": {},
   "outputs": [],
   "source": [
    "c = C()"
   ]
  },
  {
   "cell_type": "code",
   "execution_count": 13,
   "id": "7518655b",
   "metadata": {},
   "outputs": [
    {
     "name": "stdout",
     "output_type": "stream",
     "text": [
      "C class method is called\n"
     ]
    }
   ],
   "source": [
    "c.method1()"
   ]
  },
  {
   "cell_type": "code",
   "execution_count": 14,
   "id": "1f08d7b9",
   "metadata": {},
   "outputs": [],
   "source": [
    "d = D()"
   ]
  },
  {
   "cell_type": "code",
   "execution_count": 15,
   "id": "8ef82835",
   "metadata": {},
   "outputs": [
    {
     "name": "stdout",
     "output_type": "stream",
     "text": [
      "D class method is called\n",
      "C class method is called\n",
      "B class method is  called\n"
     ]
    }
   ],
   "source": [
    "d.method1()"
   ]
  },
  {
   "cell_type": "markdown",
   "id": "ff301287",
   "metadata": {},
   "source": [
    "## Decorator"
   ]
  },
  {
   "cell_type": "code",
   "execution_count": 16,
   "id": "e67d4f10",
   "metadata": {},
   "outputs": [],
   "source": [
    "### Creating decorator_fun\n",
    "\n",
    "def decorator_fun(origin_fun):\n",
    "    def inner_fun(*args):\n",
    "        return origin_fun\n",
    "    return inner_fun()\n",
    "    "
   ]
  },
  {
   "cell_type": "code",
   "execution_count": 17,
   "id": "975a928e",
   "metadata": {},
   "outputs": [],
   "source": [
    "## using firt-class,closers funtion to attach the decorator_fun for this add_fun\n",
    "@decorator_fun\n",
    "def add_fun(x,y):\n",
    "    return x+y"
   ]
  },
  {
   "cell_type": "code",
   "execution_count": 18,
   "id": "775e5c2f",
   "metadata": {},
   "outputs": [
    {
     "data": {
      "text/plain": [
       "3"
      ]
     },
     "execution_count": 18,
     "metadata": {},
     "output_type": "execute_result"
    }
   ],
   "source": [
    "add_fun(1,2)"
   ]
  },
  {
   "cell_type": "code",
   "execution_count": null,
   "id": "d525a0df",
   "metadata": {},
   "outputs": [],
   "source": []
  }
 ],
 "metadata": {
  "kernelspec": {
   "display_name": "Python 3 (ipykernel)",
   "language": "python",
   "name": "python3"
  },
  "language_info": {
   "codemirror_mode": {
    "name": "ipython",
    "version": 3
   },
   "file_extension": ".py",
   "mimetype": "text/x-python",
   "name": "python",
   "nbconvert_exporter": "python",
   "pygments_lexer": "ipython3",
   "version": "3.9.7"
  }
 },
 "nbformat": 4,
 "nbformat_minor": 5
}
