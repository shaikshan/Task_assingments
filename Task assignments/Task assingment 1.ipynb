{
 "cells": [
  {
   "cell_type": "code",
   "execution_count": 2,
   "id": "a124976e",
   "metadata": {},
   "outputs": [],
   "source": [
    "with open(\"example.txt\",\"w\") as wf:\n",
    "    wf.write(\"This is a placement assingment\")\n",
    "    wf.close()"
   ]
  },
  {
   "cell_type": "code",
   "execution_count": 3,
   "id": "45ea0a64",
   "metadata": {},
   "outputs": [],
   "source": [
    "import logging\n",
    "logging.basicConfig(filename = \"test.log\", level = logging.DEBUG,format = \"%(asctime)s %(levelname)s %(message)s\")\n",
    "\n",
    "class file_handler:\n",
    "    \n",
    "    def __init__(self,file_name,original_string,new_string):\n",
    "        \n",
    "        self.file_name = file_name\n",
    "        self.original_string = original_string\n",
    "        self.new_string = new_string\n",
    "        \n",
    "    def file_content_replacer(self):\n",
    "        \"\"\"This function helps to update new_string in the place of old or original_string\"\"\"\n",
    "        try:\n",
    "            with open(self.file_name,\"r\") as rf:\n",
    "                filedata = rf.read()\n",
    "                filedata = filedata.replace(self.original_string,self.new_string)\n",
    "                with open(self.file_name,\"w\") as wf:\n",
    "                    return wf.write(filedata)\n",
    "                    logging.info(\"Operation is done successfully\")\n",
    "        except Exception as e:\n",
    "            logging.error(\"Error has occured\")\n",
    "            logging.Exception(\"Exception has occured at\"+str(e))\n",
    "\n",
    "            \n",
    "logging.shutdown()\n",
    "            "
   ]
  },
  {
   "cell_type": "code",
   "execution_count": 4,
   "id": "2c51dd84",
   "metadata": {},
   "outputs": [],
   "source": [
    "f = file_handler(\"example.txt\",\"placement\",\"roshanzameer\")"
   ]
  },
  {
   "cell_type": "code",
   "execution_count": 5,
   "id": "3c566198",
   "metadata": {},
   "outputs": [
    {
     "data": {
      "text/plain": [
       "'example.txt'"
      ]
     },
     "execution_count": 5,
     "metadata": {},
     "output_type": "execute_result"
    }
   ],
   "source": [
    "f.file_name"
   ]
  },
  {
   "cell_type": "code",
   "execution_count": 6,
   "id": "65d35c53",
   "metadata": {},
   "outputs": [
    {
     "data": {
      "text/plain": [
       "'roshanzameer'"
      ]
     },
     "execution_count": 6,
     "metadata": {},
     "output_type": "execute_result"
    }
   ],
   "source": [
    "f.new_string"
   ]
  },
  {
   "cell_type": "code",
   "execution_count": 7,
   "id": "7c0a55b2",
   "metadata": {},
   "outputs": [
    {
     "data": {
      "text/plain": [
       "'placement'"
      ]
     },
     "execution_count": 7,
     "metadata": {},
     "output_type": "execute_result"
    }
   ],
   "source": [
    "f.original_string"
   ]
  },
  {
   "cell_type": "code",
   "execution_count": 8,
   "id": "a431a796",
   "metadata": {},
   "outputs": [
    {
     "data": {
      "text/plain": [
       "33"
      ]
     },
     "execution_count": 8,
     "metadata": {},
     "output_type": "execute_result"
    }
   ],
   "source": [
    "f.file_content_replacer()"
   ]
  },
  {
   "cell_type": "code",
   "execution_count": null,
   "id": "122f34df",
   "metadata": {},
   "outputs": [],
   "source": []
  },
  {
   "cell_type": "code",
   "execution_count": null,
   "id": "a20fa8fd",
   "metadata": {},
   "outputs": [],
   "source": []
  }
 ],
 "metadata": {
  "kernelspec": {
   "display_name": "Python 3 (ipykernel)",
   "language": "python",
   "name": "python3"
  },
  "language_info": {
   "codemirror_mode": {
    "name": "ipython",
    "version": 3
   },
   "file_extension": ".py",
   "mimetype": "text/x-python",
   "name": "python",
   "nbconvert_exporter": "python",
   "pygments_lexer": "ipython3",
   "version": "3.9.7"
  }
 },
 "nbformat": 4,
 "nbformat_minor": 5
}
